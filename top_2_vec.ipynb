{
 "cells": [
  {
   "cell_type": "code",
   "execution_count": 1,
   "id": "80a02329-ad79-43e7-a103-1a0e3f0204c1",
   "metadata": {},
   "outputs": [
    {
     "name": "stderr",
     "output_type": "stream",
     "text": [
      "/home/simeon/.local/lib/python3.10/site-packages/tqdm/auto.py:22: TqdmWarning: IProgress not found. Please update jupyter and ipywidgets. See https://ipywidgets.readthedocs.io/en/stable/user_install.html\n",
      "  from .autonotebook import tqdm as notebook_tqdm\n"
     ]
    }
   ],
   "source": [
    "import pandas as pd\n",
    "from top2vec import Top2Vec"
   ]
  },
  {
   "cell_type": "code",
   "execution_count": 2,
   "id": "795766dc-28e9-47e1-aff9-f4f6267f76b6",
   "metadata": {},
   "outputs": [],
   "source": [
    "df = pd.read_json(\"data/corpus.json\")\n",
    "docs = df.data.values.tolist()"
   ]
  },
  {
   "cell_type": "code",
   "execution_count": 3,
   "id": "1971a52a-08de-4773-8942-033c90babb52",
   "metadata": {},
   "outputs": [
    {
     "name": "stderr",
     "output_type": "stream",
     "text": [
      "2022-10-18 00:09:37,269 - top2vec - INFO - Pre-processing documents for training\n",
      "2022-10-18 00:09:45,133 - top2vec - INFO - Creating joint document/word embedding\n",
      "2022-10-18 00:15:44,369 - top2vec - INFO - Creating lower dimension embedding of documents\n",
      "2022-10-18 00:17:54,890 - top2vec - INFO - Finding dense areas of documents\n",
      "2022-10-18 00:18:03,978 - top2vec - INFO - Finding topics\n"
     ]
    }
   ],
   "source": [
    "model = Top2Vec(docs)"
   ]
  },
  {
   "cell_type": "code",
   "execution_count": 8,
   "id": "7ea2b64b-a7aa-44d3-b1a0-075cd08ebf04",
   "metadata": {},
   "outputs": [
    {
     "name": "stdout",
     "output_type": "stream",
     "text": [
      "Document: 33078, Score: 0.8855258822441101\n",
      "----------------\n",
      "Successful health reform must not just make health insurance affordable, affordable health insurance has to make health care affordable.\n",
      "----------------\n",
      "\n",
      "Document: 33072, Score: 0.8816655278205872\n",
      "----------------\n",
      "America doesn't have health insurance.\n",
      "----------------\n",
      "\n",
      "Document: 33691, Score: 0.8614054918289185\n",
      "----------------\n",
      "Most Americans want health insurance.\n",
      "----------------\n",
      "\n",
      "Document: 33719, Score: 0.8592380881309509\n",
      "----------------\n",
      "For many years I didn't have health insurance.\n",
      "----------------\n",
      "\n",
      "Document: 33656, Score: 0.7888407111167908\n",
      "----------------\n",
      "The result was, of course, that today, tragically, more than 40 million Americans don't have health insurance, and for many, not having health insurance means they don't have access to good health care.\n",
      "----------------\n",
      "\n",
      "Document: 33414, Score: 0.7872395515441895\n",
      "----------------\n",
      "Everyone should have health insurance? I say everyone should have health care. I'm not selling insurance.\n",
      "----------------\n",
      "\n",
      "Document: 33645, Score: 0.7858262062072754\n",
      "----------------\n",
      "Today right here in America we have 50 million people without health insurance.\n",
      "----------------\n",
      "\n",
      "Document: 33320, Score: 0.784014880657196\n",
      "----------------\n",
      "Medical professionals, not insurance company bureaucrats, should be making health care decisions.\n",
      "----------------\n",
      "\n",
      "Document: 30213, Score: 0.7816979885101318\n",
      "----------------\n",
      "Those outside of autism need to understand this is an epidemic and we need more government funding, insurance coverage and education reform.\n",
      "----------------\n",
      "\n",
      "Document: 33787, Score: 0.7733220458030701\n",
      "----------------\n",
      "It's not health care reform to dump more money into Medicaid.\n",
      "----------------\n",
      "\n"
     ]
    }
   ],
   "source": [
    "topic_sizes, topic_nums = model.get_topic_sizes()\n",
    "# print(f\"Topic Nums: {topic_nums}\")\n",
    "\n",
    "topic_words, topic_scores, topic_nums = model.get_topics(model.get_num_topics())\n",
    "\n",
    "for words, num in zip(topic_words, topic_nums):\n",
    "    print(num)\n",
    "    print(f\"Words: {words}\")\n",
    "\n",
    "documents, document_scores, document_ids = model.search_documents_by_topic(topic_num=0, num_docs=10)\n",
    "\n",
    "for doc, score, doc_id in zip(documents, document_scores, document_ids):\n",
    "    print(f\"Document: {doc_id}, Score: {score}\")\n",
    "    print(\"----------------\")\n",
    "    print(doc)\n",
    "    print(\"----------------\")\n",
    "    print()"
   ]
  },
  {
   "cell_type": "code",
   "execution_count": null,
   "id": "560d437d-d63e-4af3-8ba0-1f5da3ed3e6c",
   "metadata": {},
   "outputs": [],
   "source": []
  }
 ],
 "metadata": {
  "kernelspec": {
   "display_name": "Python 3 (ipykernel)",
   "language": "python",
   "name": "python3"
  },
  "language_info": {
   "codemirror_mode": {
    "name": "ipython",
    "version": 3
   },
   "file_extension": ".py",
   "mimetype": "text/x-python",
   "name": "python",
   "nbconvert_exporter": "python",
   "pygments_lexer": "ipython3",
   "version": "3.10.6"
  }
 },
 "nbformat": 4,
 "nbformat_minor": 5
}
