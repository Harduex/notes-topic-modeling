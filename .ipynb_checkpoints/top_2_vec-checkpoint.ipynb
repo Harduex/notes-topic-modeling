{
 "cells": [
  {
   "cell_type": "code",
   "execution_count": 1,
   "id": "80a02329-ad79-43e7-a103-1a0e3f0204c1",
   "metadata": {},
   "outputs": [
    {
     "name": "stderr",
     "output_type": "stream",
     "text": [
      "/home/simeon/.local/lib/python3.10/site-packages/tqdm/auto.py:22: TqdmWarning: IProgress not found. Please update jupyter and ipywidgets. See https://ipywidgets.readthedocs.io/en/stable/user_install.html\n",
      "  from .autonotebook import tqdm as notebook_tqdm\n"
     ]
    }
   ],
   "source": [
    "import pandas as pd\n",
    "from top2vec import Top2Vec"
   ]
  },
  {
   "cell_type": "code",
   "execution_count": 2,
   "id": "795766dc-28e9-47e1-aff9-f4f6267f76b6",
   "metadata": {},
   "outputs": [],
   "source": [
    "df = pd.read_json(\"data/corpus.json\")\n",
    "docs = df.data.values.tolist()"
   ]
  },
  {
   "cell_type": "code",
   "execution_count": null,
   "id": "1971a52a-08de-4773-8942-033c90babb52",
   "metadata": {},
   "outputs": [
    {
     "name": "stderr",
     "output_type": "stream",
     "text": [
      "2022-10-18 00:09:37,269 - top2vec - INFO - Pre-processing documents for training\n",
      "2022-10-18 00:09:45,133 - top2vec - INFO - Creating joint document/word embedding\n"
     ]
    }
   ],
   "source": [
    "model = Top2Vec(docs)"
   ]
  },
  {
   "cell_type": "code",
   "execution_count": null,
   "id": "7ea2b64b-a7aa-44d3-b1a0-075cd08ebf04",
   "metadata": {},
   "outputs": [],
   "source": [
    "topic_sizes, topic_nums = model.get_topic_sizes()\n",
    "print(f\"Topic Nums: {topic_nums}\")\n",
    "\n",
    "topic_words, topic_scores, topic_nums = model.get_topics(model.get_num_topics())\n",
    "\n",
    "for words, num in zip(topic_words, topic_nums):\n",
    "    print(num)\n",
    "    print(f\"Words: {words}\")\n",
    "\n",
    "documents, document_scores, document_ids = model.search_documents_by_topic(topic_num=0, num_docs=10)\n",
    "\n",
    "for doc, score, doc_id in zip(documents, document_scores, document_ids):\n",
    "    print(f\"Document: {doc_id}, Score: {score}\")\n",
    "    print(\"----------------\")\n",
    "    print(doc)\n",
    "    print(\"----------------\")\n",
    "    print()"
   ]
  },
  {
   "cell_type": "code",
   "execution_count": null,
   "id": "560d437d-d63e-4af3-8ba0-1f5da3ed3e6c",
   "metadata": {},
   "outputs": [],
   "source": []
  }
 ],
 "metadata": {
  "kernelspec": {
   "display_name": "Python 3 (ipykernel)",
   "language": "python",
   "name": "python3"
  },
  "language_info": {
   "codemirror_mode": {
    "name": "ipython",
    "version": 3
   },
   "file_extension": ".py",
   "mimetype": "text/x-python",
   "name": "python",
   "nbconvert_exporter": "python",
   "pygments_lexer": "ipython3",
   "version": "3.10.6"
  }
 },
 "nbformat": 4,
 "nbformat_minor": 5
}
